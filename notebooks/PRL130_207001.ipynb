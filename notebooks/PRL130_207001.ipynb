{
 "cells": [
  {
   "cell_type": "code",
   "execution_count": null,
   "id": "cc9b387c-fb17-44ef-b8bc-6b8996d2ae93",
   "metadata": {},
   "outputs": [],
   "source": [
    "import tgp\n",
    "from tgp.plot import paper\n",
    "import xarray as xr"
   ]
  },
  {
   "cell_type": "code",
   "execution_count": null,
   "id": "ebf07338-e9cb-4795-9dd1-d9ab4afd85e4",
   "metadata": {},
   "outputs": [],
   "source": [
    "ds_T0 = xr.load_dataset('../data/PRL130_207001.nc')\n",
    "ds_T0 = tgp.prepare.prepare(ds_T0)"
   ]
  },
  {
   "cell_type": "code",
   "execution_count": null,
   "id": "0d099e77-db27-4812-b880-4194a913b9d2",
   "metadata": {},
   "outputs": [],
   "source": [
    "ds_T0"
   ]
  },
  {
   "cell_type": "code",
   "execution_count": null,
   "id": "30c6c010-bd14-4aea-8a07-9beca5aae77b",
   "metadata": {},
   "outputs": [],
   "source": [
    "# Perform temperature broadening\n",
    "ds = tgp.prepare.broaden_with_temperature(ds_T0, T_mK=40)"
   ]
  },
  {
   "cell_type": "code",
   "execution_count": null,
   "id": "da44ef29-bc39-4630-bb85-6182159b867a",
   "metadata": {},
   "outputs": [],
   "source": [
    "# Inspect data\n",
    "ds_left = ds.rename({\"bias\": \"left_bias\"})\n",
    "ds_right = ds.rename({\"bias\": \"right_bias\"})\n",
    "tgp.plot.two.plot_data_interactive(ds_left, ds_right)"
   ]
  },
  {
   "cell_type": "code",
   "execution_count": null,
   "id": "23f4b3bb-e322-4097-9515-6bc35ea3fe01",
   "metadata": {},
   "outputs": [],
   "source": [
    "# Identify regions of zero bias peaks and finite gap\n",
    "ds_left, ds_right = tgp.two.extract_gap(ds_left, ds_right)\n",
    "zbp_ds = tgp.two.zbp_dataset_derivative(ds_left, ds_right, average_over_cutter=False)\n",
    "tgp.two.set_gap_threshold(zbp_ds, threshold_high=None)\n",
    "zbp_ds = tgp.two.cluster_and_score(zbp_ds)"
   ]
  },
  {
   "cell_type": "code",
   "execution_count": null,
   "id": "ab58f1b3-89b3-4b9d-bd7b-ecd58db2bf58",
   "metadata": {},
   "outputs": [],
   "source": [
    "selected_cutter = int(ds.where(ds[\"μ_L\"] == 0.0, drop =True).cutter_pair_index)\n",
    "fig, axs = tgp.plot.paper.plot_stage2_diagram(zbp_ds, cutter_value=selected_cutter, zbp_cluster_numbers=\"all\")\n",
    "axs[0].set_ylabel(r'$\\mu$ [meV]')\n",
    "axs[0].set_xlabel(r'$B$ [meV]')\n",
    "axs[1].set_xlabel(r'$B$ [meV]')"
   ]
  },
  {
   "cell_type": "code",
   "execution_count": null,
   "id": "fe262954-88e1-43c1-83c0-aa6018661d63",
   "metadata": {},
   "outputs": [],
   "source": []
  }
 ],
 "metadata": {
  "language_info": {
   "codemirror_mode": {
    "name": "ipython",
    "version": 3
   },
   "file_extension": ".py",
   "mimetype": "text/x-python",
   "name": "python",
   "nbconvert_exporter": "python",
   "pygments_lexer": "ipython3",
   "version": "3.10.8"
  }
 },
 "nbformat": 4,
 "nbformat_minor": 5
}
